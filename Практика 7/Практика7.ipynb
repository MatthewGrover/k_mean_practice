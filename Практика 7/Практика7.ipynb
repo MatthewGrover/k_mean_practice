{
 "cells": [
  {
   "cell_type": "code",
   "execution_count": 1,
   "metadata": {},
   "outputs": [],
   "source": [
    "# Зависимости\n",
    "import numpy \n",
    "import pandas as pd\n",
    "import matplotlib.pyplot as plt\n",
    "import sklearn\n",
    "from sklearn import cluster\n",
    "from sklearn import datasets"
   ]
  },
  {
   "cell_type": "code",
   "execution_count": 2,
   "metadata": {
    "scrolled": true
   },
   "outputs": [],
   "source": [
    "# Сформируем тестовый набор данных из 5000 записей, каждая из которых имеет две координаты.\n",
    "# При этом полученный набор данных будет иметь 4 явно выраженных кластера.\n",
    "test_x, test_y = datasets.make_blobs(n_samples = 5000, n_features = 2, centers = 4)"
   ]
  },
  {
   "cell_type": "code",
   "execution_count": 3,
   "metadata": {},
   "outputs": [
    {
     "name": "stdout",
     "output_type": "stream",
     "text": [
      "              0         1\n",
      "0     10.314009 -1.954359\n",
      "1     11.113883 -2.125618\n",
      "2     10.864612  8.448299\n",
      "3      9.538017  7.496310\n",
      "4      1.111429  4.753053\n",
      "...         ...       ...\n",
      "4995  -0.543235  5.456897\n",
      "4996  -2.808043 -1.450061\n",
      "4997   8.050516  8.221190\n",
      "4998  -0.251070  3.992112\n",
      "4999   8.846424  0.100422\n",
      "\n",
      "[5000 rows x 2 columns]\n"
     ]
    }
   ],
   "source": [
    "# Приведем полученный набор данных к формату pandas.DataFrame\n",
    "x = pd.DataFrame(test_x)\n",
    "print(x)"
   ]
  },
  {
   "cell_type": "code",
   "execution_count": null,
   "metadata": {},
   "outputs": [],
   "source": [
    "# Отобразим полученный набор данных в виде точек на плоскости\n",
    "plt.scatter(x[0], x[1])\n",
    "plt.show()"
   ]
  },
  {
   "cell_type": "code",
   "execution_count": null,
   "metadata": {},
   "outputs": [],
   "source": [
    "# Теперь запустим алгоритм k-средних, указав число кластеров, которое нам изначально известно\n",
    "kmeans = sklearn.cluster.KMeans(n_clusters = 4)\n",
    "y = kmeans.fit_predict(x)\n",
    "\n",
    "# Выведем значение инерции (именно оно минимизируется при использовании алгоритма k-средних)\n",
    "print(kmeans.inertia_)"
   ]
  },
  {
   "cell_type": "code",
   "execution_count": null,
   "metadata": {},
   "outputs": [],
   "source": [
    "# Отобразим набор данных, используя разные цвета для разных кластеров\n",
    "plt.scatter(x[0], x[1], c = y)\n",
    "plt.show()    "
   ]
  },
  {
   "cell_type": "code",
   "execution_count": 13,
   "metadata": {
    "scrolled": false
   },
   "outputs": [
    {
     "data": {
      "text/html": [
       "<div>\n",
       "<style scoped>\n",
       "    .dataframe tbody tr th:only-of-type {\n",
       "        vertical-align: middle;\n",
       "    }\n",
       "\n",
       "    .dataframe tbody tr th {\n",
       "        vertical-align: top;\n",
       "    }\n",
       "\n",
       "    .dataframe thead th {\n",
       "        text-align: right;\n",
       "    }\n",
       "</style>\n",
       "<table border=\"1\" class=\"dataframe\">\n",
       "  <thead>\n",
       "    <tr style=\"text-align: right;\">\n",
       "      <th></th>\n",
       "      <th>city</th>\n",
       "      <th>city_ascii</th>\n",
       "      <th>lat</th>\n",
       "      <th>lng</th>\n",
       "      <th>country</th>\n",
       "      <th>iso2</th>\n",
       "      <th>iso3</th>\n",
       "      <th>admin_name</th>\n",
       "      <th>capital</th>\n",
       "      <th>population</th>\n",
       "      <th>id</th>\n",
       "    </tr>\n",
       "  </thead>\n",
       "  <tbody>\n",
       "    <tr>\n",
       "      <th>0</th>\n",
       "      <td>Malishevë</td>\n",
       "      <td>Malisheve</td>\n",
       "      <td>42.4822</td>\n",
       "      <td>20.7458</td>\n",
       "      <td>Kosovo</td>\n",
       "      <td>XK</td>\n",
       "      <td>XKS</td>\n",
       "      <td>Malishevë</td>\n",
       "      <td>admin</td>\n",
       "      <td>NaN</td>\n",
       "      <td>1901597212</td>\n",
       "    </tr>\n",
       "    <tr>\n",
       "      <th>1</th>\n",
       "      <td>Prizren</td>\n",
       "      <td>Prizren</td>\n",
       "      <td>42.2139</td>\n",
       "      <td>20.7397</td>\n",
       "      <td>Kosovo</td>\n",
       "      <td>XK</td>\n",
       "      <td>XKS</td>\n",
       "      <td>Prizren</td>\n",
       "      <td>admin</td>\n",
       "      <td>NaN</td>\n",
       "      <td>1901360309</td>\n",
       "    </tr>\n",
       "    <tr>\n",
       "      <th>2</th>\n",
       "      <td>Zubin Potok</td>\n",
       "      <td>Zubin Potok</td>\n",
       "      <td>42.9144</td>\n",
       "      <td>20.6897</td>\n",
       "      <td>Kosovo</td>\n",
       "      <td>XK</td>\n",
       "      <td>XKS</td>\n",
       "      <td>Zubin Potok</td>\n",
       "      <td>admin</td>\n",
       "      <td>NaN</td>\n",
       "      <td>1901608808</td>\n",
       "    </tr>\n",
       "    <tr>\n",
       "      <th>3</th>\n",
       "      <td>Kamenicë</td>\n",
       "      <td>Kamenice</td>\n",
       "      <td>42.5781</td>\n",
       "      <td>21.5803</td>\n",
       "      <td>Kosovo</td>\n",
       "      <td>XK</td>\n",
       "      <td>XKS</td>\n",
       "      <td>Kamenicë</td>\n",
       "      <td>admin</td>\n",
       "      <td>NaN</td>\n",
       "      <td>1901851592</td>\n",
       "    </tr>\n",
       "    <tr>\n",
       "      <th>4</th>\n",
       "      <td>Viti</td>\n",
       "      <td>Viti</td>\n",
       "      <td>42.3214</td>\n",
       "      <td>21.3583</td>\n",
       "      <td>Kosovo</td>\n",
       "      <td>XK</td>\n",
       "      <td>XKS</td>\n",
       "      <td>Viti</td>\n",
       "      <td>admin</td>\n",
       "      <td>NaN</td>\n",
       "      <td>1901328795</td>\n",
       "    </tr>\n",
       "    <tr>\n",
       "      <th>5</th>\n",
       "      <td>Shtërpcë</td>\n",
       "      <td>Shterpce</td>\n",
       "      <td>42.2394</td>\n",
       "      <td>21.0272</td>\n",
       "      <td>Kosovo</td>\n",
       "      <td>XK</td>\n",
       "      <td>XKS</td>\n",
       "      <td>Shtërpcë</td>\n",
       "      <td>admin</td>\n",
       "      <td>NaN</td>\n",
       "      <td>1901828239</td>\n",
       "    </tr>\n",
       "    <tr>\n",
       "      <th>6</th>\n",
       "      <td>Shtime</td>\n",
       "      <td>Shtime</td>\n",
       "      <td>42.4331</td>\n",
       "      <td>21.0397</td>\n",
       "      <td>Kosovo</td>\n",
       "      <td>XK</td>\n",
       "      <td>XKS</td>\n",
       "      <td>Shtime</td>\n",
       "      <td>admin</td>\n",
       "      <td>NaN</td>\n",
       "      <td>1901598505</td>\n",
       "    </tr>\n",
       "    <tr>\n",
       "      <th>7</th>\n",
       "      <td>Vushtrri</td>\n",
       "      <td>Vushtrri</td>\n",
       "      <td>42.8231</td>\n",
       "      <td>20.9675</td>\n",
       "      <td>Kosovo</td>\n",
       "      <td>XK</td>\n",
       "      <td>XKS</td>\n",
       "      <td>Vushtrri</td>\n",
       "      <td>admin</td>\n",
       "      <td>NaN</td>\n",
       "      <td>1901107642</td>\n",
       "    </tr>\n",
       "  </tbody>\n",
       "</table>\n",
       "</div>"
      ],
      "text/plain": [
       "          city   city_ascii      lat      lng country iso2 iso3   admin_name  \\\n",
       "0    Malishevë    Malisheve  42.4822  20.7458  Kosovo   XK  XKS    Malishevë   \n",
       "1      Prizren      Prizren  42.2139  20.7397  Kosovo   XK  XKS      Prizren   \n",
       "2  Zubin Potok  Zubin Potok  42.9144  20.6897  Kosovo   XK  XKS  Zubin Potok   \n",
       "3     Kamenicë     Kamenice  42.5781  21.5803  Kosovo   XK  XKS     Kamenicë   \n",
       "4         Viti         Viti  42.3214  21.3583  Kosovo   XK  XKS         Viti   \n",
       "5     Shtërpcë     Shterpce  42.2394  21.0272  Kosovo   XK  XKS     Shtërpcë   \n",
       "6       Shtime       Shtime  42.4331  21.0397  Kosovo   XK  XKS       Shtime   \n",
       "7     Vushtrri     Vushtrri  42.8231  20.9675  Kosovo   XK  XKS     Vushtrri   \n",
       "\n",
       "  capital  population          id  \n",
       "0   admin         NaN  1901597212  \n",
       "1   admin         NaN  1901360309  \n",
       "2   admin         NaN  1901608808  \n",
       "3   admin         NaN  1901851592  \n",
       "4   admin         NaN  1901328795  \n",
       "5   admin         NaN  1901828239  \n",
       "6   admin         NaN  1901598505  \n",
       "7   admin         NaN  1901107642  "
      ]
     },
     "execution_count": 13,
     "metadata": {},
     "output_type": "execute_result"
    }
   ],
   "source": [
    "# Загрузите файл \"worldcities.csv\" в DataFrame.\n",
    "wc_dataset = pd.read_csv(\"worldcities.csv\")\n",
    "wc_dataset.head(8)"
   ]
  },
  {
   "cell_type": "code",
   "execution_count": 14,
   "metadata": {},
   "outputs": [
    {
     "data": {
      "text/html": [
       "<div>\n",
       "<style scoped>\n",
       "    .dataframe tbody tr th:only-of-type {\n",
       "        vertical-align: middle;\n",
       "    }\n",
       "\n",
       "    .dataframe tbody tr th {\n",
       "        vertical-align: top;\n",
       "    }\n",
       "\n",
       "    .dataframe thead th {\n",
       "        text-align: right;\n",
       "    }\n",
       "</style>\n",
       "<table border=\"1\" class=\"dataframe\">\n",
       "  <thead>\n",
       "    <tr style=\"text-align: right;\">\n",
       "      <th></th>\n",
       "      <th>lat</th>\n",
       "      <th>lng</th>\n",
       "    </tr>\n",
       "  </thead>\n",
       "  <tbody>\n",
       "    <tr>\n",
       "      <th>0</th>\n",
       "      <td>42.4822</td>\n",
       "      <td>20.7458</td>\n",
       "    </tr>\n",
       "    <tr>\n",
       "      <th>1</th>\n",
       "      <td>42.2139</td>\n",
       "      <td>20.7397</td>\n",
       "    </tr>\n",
       "    <tr>\n",
       "      <th>2</th>\n",
       "      <td>42.9144</td>\n",
       "      <td>20.6897</td>\n",
       "    </tr>\n",
       "    <tr>\n",
       "      <th>3</th>\n",
       "      <td>42.5781</td>\n",
       "      <td>21.5803</td>\n",
       "    </tr>\n",
       "    <tr>\n",
       "      <th>4</th>\n",
       "      <td>42.3214</td>\n",
       "      <td>21.3583</td>\n",
       "    </tr>\n",
       "    <tr>\n",
       "      <th>5</th>\n",
       "      <td>42.2394</td>\n",
       "      <td>21.0272</td>\n",
       "    </tr>\n",
       "    <tr>\n",
       "      <th>6</th>\n",
       "      <td>42.4331</td>\n",
       "      <td>21.0397</td>\n",
       "    </tr>\n",
       "    <tr>\n",
       "      <th>7</th>\n",
       "      <td>42.8231</td>\n",
       "      <td>20.9675</td>\n",
       "    </tr>\n",
       "  </tbody>\n",
       "</table>\n",
       "</div>"
      ],
      "text/plain": [
       "       lat      lng\n",
       "0  42.4822  20.7458\n",
       "1  42.2139  20.7397\n",
       "2  42.9144  20.6897\n",
       "3  42.5781  21.5803\n",
       "4  42.3214  21.3583\n",
       "5  42.2394  21.0272\n",
       "6  42.4331  21.0397\n",
       "7  42.8231  20.9675"
      ]
     },
     "execution_count": 14,
     "metadata": {},
     "output_type": "execute_result"
    }
   ],
   "source": [
    "# Сформируйте новый DataFrame из столбцов 'lng' и 'lat' оригинального DataFrame.\n",
    "dataset = wc_dataset.iloc[:, 2:4]\n",
    "dataset.head(8)"
   ]
  },
  {
   "cell_type": "code",
   "execution_count": null,
   "metadata": {},
   "outputs": [],
   "source": [
    "# Отобразите полученный DataFrame в виде точек, где координаты по оси X берутся из столбца 'lng', \n",
    "#а координаты по оси Y - из столбца 'lat'.\n",
    "plt.scatter(dataset['lng'], dataset['lat'])\n",
    "plt.show"
   ]
  },
  {
   "cell_type": "code",
   "execution_count": null,
   "metadata": {
    "scrolled": false
   },
   "outputs": [],
   "source": [
    "# Создайте пустой список inertia для хранения результатов вычислительных экмпериментов.\n",
    "inertia = []"
   ]
  },
  {
   "cell_type": "code",
   "execution_count": null,
   "metadata": {},
   "outputs": [],
   "source": [
    "# Напишите цикл по количеству кластеров от 1 до 10.\n",
    "# В цикле запускайте алгоритм k-средних с текущим количеством кластеров,\n",
    "# добавляйте в список inertia значение для текущего результата работы алгоритма,\n",
    "# отобразите набор данных, используя разные цвета для разных кластеров.\n",
    "# Все шаги делайте по аналогии с примером выше.\n",
    "for i in range(1,11):\n",
    "    kmeans = sklearn.cluster.KMeans(n_clusters = i)\n",
    "    y = kmeans.fit_predict(dataset)\n",
    "    \n",
    "    inertia.append(kmeans.inertia_)\n",
    "    \n",
    "    plt.scatter(dataset['lng'], dataset['lat'], c = y)\n",
    "    plt.show()"
   ]
  },
  {
   "cell_type": "code",
   "execution_count": null,
   "metadata": {},
   "outputs": [],
   "source": [
    "# Постройте график изменения величины inertia от количества кластеров.\n",
    "plt.plot(inertia)\n",
    "plt.xlabel('Количество кластеров')\n",
    "plt.ylabel('Велечина inertia')\n",
    "plt.show()"
   ]
  },
  {
   "cell_type": "code",
   "execution_count": null,
   "metadata": {},
   "outputs": [],
   "source": []
  }
 ],
 "metadata": {
  "kernelspec": {
   "display_name": "Python 3",
   "language": "python",
   "name": "python3"
  },
  "language_info": {
   "codemirror_mode": {
    "name": "ipython",
    "version": 3
   },
   "file_extension": ".py",
   "mimetype": "text/x-python",
   "name": "python",
   "nbconvert_exporter": "python",
   "pygments_lexer": "ipython3",
   "version": "3.7.6"
  }
 },
 "nbformat": 4,
 "nbformat_minor": 2
}
